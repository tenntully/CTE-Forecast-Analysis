{
 "cells": [
  {
   "cell_type": "code",
   "execution_count": 1,
   "id": "00818843",
   "metadata": {},
   "outputs": [],
   "source": [
    "import os\n",
    "import pandas as pd"
   ]
  },
  {
   "cell_type": "markdown",
   "id": "df859b14",
   "metadata": {},
   "source": [
    "## Extract Forecast Data from Individual Files and Export CSV for Analysis"
   ]
  },
  {
   "cell_type": "code",
   "execution_count": 2,
   "id": "ecf704ea",
   "metadata": {},
   "outputs": [],
   "source": [
    "forecast_month = '2023-07'\n",
    "\n",
    "## EXTRACT FORECAST DATA FROM THE INDIVIDUAL XLSX FILES FROM THE SINGLE IDENTIFIED DIRECTORY ##\n",
    "list_dfs=[]\n",
    "ForecastSpreadsheetsDIR = (f'/Users/jasonhanlin/Dropbox (CTE)/Project Forecasting/{forecast_month} Forecast/')\n",
    "for file in os.listdir(ForecastSpreadsheetsDIR):\n",
    "    if not file.startswith(\"~\") and file.endswith(\".xlsx\"):   #will break if it picks up hidden files in the directory due to them being open\n",
    "        read_file = (f'{ForecastSpreadsheetsDIR}{file}')  #reads current spreadsheet in directory\n",
    "        \n",
    "        # locates the section in the forecast that contains Staff hours and stores start row in staff_row_num\n",
    "        findStaffRow = pd.read_excel(read_file, sheet_name = 'Budget-Forecast', index_col=0, usecols = \"B\", skiprows = 200, nrows = 50)\n",
    "        findStaffRow = findStaffRow.reset_index()\n",
    "        findStaffRow.columns = ['B']\n",
    "        staff_row_num = findStaffRow[findStaffRow['B'] == 'Staff'].index + 201\n",
    "        \n",
    "        # read staff hours into a DataFrame\n",
    "        forecastDF = pd.read_excel(read_file, sheet_name = 'Budget-Forecast', index_col=0, usecols = \"B:X\", skiprows = staff_row_num[0], nrows = 15)\n",
    "    \n",
    "        forecastDF = forecastDF.loc[~(forecastDF==0).all(axis=1)]  #remove zero rows\n",
    "        forecastDF = forecastDF.reset_index()    #reset index\n",
    "    \n",
    "        # pull projectID and projectName from spreadsheet cells C2 and D2, respectively\n",
    "        projname = pd.read_excel(read_file, sheet_name = 'Budget-Forecast', index_col=None, usecols = \"C\", skiprows = 1, nrows = 1)\n",
    "        projectID = projname.iloc[0].item()\n",
    "        projectName = projname.columns.item()\n",
    "        \n",
    "        # ALTERNATE METHOD - parse projectID and projectName from file name\n",
    "        #projectID = file.split(' ')[0]\n",
    "        #xlprojectName = file.replace(f'{projectID} ', '')\n",
    "        #projectName = xlprojectName.split('.xls')[0]\n",
    "        \n",
    "        # append projectID and projectName to dataframe\n",
    "        forecastDF.insert(loc = 0, column = 'Project Name', value = projectName)\n",
    "        forecastDF.insert(loc = 0, column = 'Project ID', value = projectID)\n",
    "    \n",
    "        # append dataframes\n",
    "        list_dfs.append(forecastDF)\n",
    "\n",
    "all_forecast_dfs = pd.concat(list_dfs)"
   ]
  },
  {
   "cell_type": "code",
   "execution_count": 3,
   "id": "7e093a93",
   "metadata": {},
   "outputs": [],
   "source": [
    "all_forecast_dfs.to_csv(f'/Users/jasonhanlin/Dropbox (CTE)/Project Forecasting/Forecast Analysis Source Data/ExtractedData/all_forecast_dfs - {forecast_month}.csv')"
   ]
  },
  {
   "cell_type": "markdown",
   "id": "6c50725f",
   "metadata": {},
   "source": [
    "## Extract PROPOSAL Forecast Data from Individual Files and Export CSV for Analysis¶"
   ]
  },
  {
   "cell_type": "code",
   "execution_count": 4,
   "id": "5660ac5f",
   "metadata": {},
   "outputs": [],
   "source": [
    "## EXTRACT FORECAST DATA FROM THE INDIVIDUAL XLSX FILES FROM THE SINGLE IDENTIFIED DIRECTORY ##\n",
    "# Future upgrade: Consider making this a function (def extraction(ForecastSpreadsheetsDIR):) at the outset and calling it by passing the directory\n",
    "\n",
    "list_prop_dfs=[]\n",
    "PropForecastSpreadsheetsDIR = (f'/Users/jasonhanlin/Dropbox (CTE)/Project Forecasting/Proposal Budget Forecasts/')\n",
    "for file in os.listdir(PropForecastSpreadsheetsDIR):\n",
    "    if not file.startswith(\"~\") and file.endswith(\".xlsx\"):   #will break if it picks up hidden files in the directory due to them being open\n",
    "        read_file = (f'{PropForecastSpreadsheetsDIR}{file}')  #reads current spreadsheet in directory\n",
    "        \n",
    "        # locates the section in the forecast that contains Staff hours and stores start row in staff_row_num\n",
    "        findStaffRow = pd.read_excel(read_file, sheet_name = 'Budget-Forecast', index_col=0, usecols = \"B\", skiprows = 200, nrows = 50)\n",
    "        findStaffRow = findStaffRow.reset_index()\n",
    "        findStaffRow.columns = ['B']\n",
    "        staff_row_num = findStaffRow[findStaffRow['B'] == 'Staff'].index + 201\n",
    "        \n",
    "        # read staff hours into a DataFrame\n",
    "        forecastDF = pd.read_excel(read_file, sheet_name = 'Budget-Forecast', index_col=0, usecols = \"B:X\", skiprows = staff_row_num[0], nrows = 15)\n",
    "    \n",
    "        forecastDF = forecastDF.loc[~(forecastDF==0).all(axis=1)]  #remove zero rows\n",
    "        forecastDF = forecastDF.reset_index()    #reset index\n",
    "    \n",
    "        # pull projectID and projectName from spreadsheet cells C2 and D2, respectively\n",
    "        projname = pd.read_excel(read_file, sheet_name = 'Budget-Forecast', index_col=None, usecols = \"C\", skiprows = 1, nrows = 1)\n",
    "        projectID = projname.iloc[0].item()\n",
    "        projectName = projname.columns.item()\n",
    "        \n",
    "        # append projectID and projectName to dataframe\n",
    "        forecastDF.insert(loc = 0, column = 'Project Name', value = projectName)\n",
    "        forecastDF.insert(loc = 0, column = 'Project ID', value = projectID)\n",
    "    \n",
    "        # append dataframes\n",
    "        list_prop_dfs.append(forecastDF)\n",
    "\n",
    "all_prop_forecast_dfs = pd.concat(list_prop_dfs)\n"
   ]
  },
  {
   "cell_type": "code",
   "execution_count": 5,
   "id": "c1fae18b",
   "metadata": {},
   "outputs": [],
   "source": [
    "all_prop_forecast_dfs.to_csv(f'/Users/jasonhanlin/Dropbox (CTE)/Project Forecasting/Forecast Analysis Source Data/ExtractedData/all_prop_forecast_dfs - {forecast_month}.csv')"
   ]
  },
  {
   "cell_type": "code",
   "execution_count": null,
   "id": "780310df",
   "metadata": {},
   "outputs": [],
   "source": []
  },
  {
   "cell_type": "code",
   "execution_count": null,
   "id": "956484ba",
   "metadata": {},
   "outputs": [],
   "source": []
  }
 ],
 "metadata": {
  "kernelspec": {
   "display_name": "Python 3 (ipykernel)",
   "language": "python",
   "name": "python3"
  },
  "language_info": {
   "codemirror_mode": {
    "name": "ipython",
    "version": 3
   },
   "file_extension": ".py",
   "mimetype": "text/x-python",
   "name": "python",
   "nbconvert_exporter": "python",
   "pygments_lexer": "ipython3",
   "version": "3.11.2"
  }
 },
 "nbformat": 4,
 "nbformat_minor": 5
}
